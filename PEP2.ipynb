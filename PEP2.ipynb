{
 "cells": [
  {
   "cell_type": "code",
   "execution_count": null,
   "metadata": {},
   "outputs": [],
   "source": [
    "#Programmatically upload to S3 bucket\n",
    "import boto3\n",
    "import os\n",
    "\n",
    "aws_access_key = os.environ['ACCESS_KEY']\n",
    "aws_secret_key = os.environ['SECRET_KEY']\n",
    "\n",
    "bucket_name = 'pep2-group1-etl-endpoint'\n",
    "\n",
    "file_key = 'Outpatient_Respiratory_Illness_Activity_Map'\n",
    "\n",
    "local_file_path = 'Healthcare-Data-Analysis/Outpatient_Respiratory_Illness_Activity_Map_20240205.csv'\n",
    "\n",
    "s3 = boto3.client('s3', aws_access_key_id=aws_access_key, aws_secret_access_key=aws_secret_key)\n",
    "\n",
    "with open(local_file_path, 'rb') as data:\n",
    "    s3.put_object(Body=data, Bucket=bucket_name, Key=file_key)\n",
    "\n",
    "print(f\"File {file_key} uploaded to {bucket_name}\")"
   ]
  },
  {
   "cell_type": "code",
   "execution_count": null,
   "metadata": {},
   "outputs": [],
   "source": [
    "#Connect to RDS and upload .csv data\n",
    "import urllib\n",
    "import boto3\n",
    "import os\n",
    "import csv\n",
    "import sys\n",
    "import pymysql\n",
    "import logging\n",
    "\n",
    "s3 = boto3.client('s3')\n",
    "user_name = os.environ['USER_NAME']\n",
    "password = os.environ['PASSWORD']\n",
    "rds_proxy_host = os.environ['RDS_PROXY_HOST']\n",
    "db_name = os.environ['DB_NAME']\n",
    "\n",
    "logger = logging.getLogger()\n",
    "logger.setLevel(logging.INFO)\n",
    "\n",
    "try:\n",
    "    conn = pymysql.connect(host=rds_proxy_host, user=user_name, passwd=password, db=db_name, connect_timeout=5)\n",
    "except pymysql.MySQLError as e:\n",
    "    logger.error(\"ERROR: Unexpected error: Could not connect to MySQL instance.\")\n",
    "    logger.error(e)\n",
    "    sys.exit(1)\n",
    "\n",
    "logger.info(\"SUCCESS: Connection to RDS for MySQL instance succeeded\")\n",
    "\n",
    "def lambda_handler(event, context):\n",
    "    bucket = event['Records'][0]['s3']['bucket']['name']\n",
    "    key = urllib.parse.unquote_plus(event['Records'][0]['s3']['object']['key'], encoding='utf=8')\n",
    "    local_file_path = '/tmp/' + os.path.basename(key)\n",
    "    s3.download_file(bucket, key, local_file_path)\n",
    "    logger.info(\"SUCCESS: File retrieved from S3\") \n",
    "    \n",
    "    data = []\n",
    "    with open(local_file_path, 'r') as csvfile:\n",
    "        csv_reader = csv.reader(csvfile)\n",
    "        for row in csv_reader:\n",
    "            data.append(row[:4] + [row[4].replace(\"Level \", '')] + row[5:])\n",
    "        data = [tuple(row) for row in data]\n",
    "    logger.info(\"SUCCESS: File read\")    \n",
    "    data = data[1:]\n",
    "    \n",
    "    sql_string = 'insert into respiratory_infections (week_ending, week, season, state, activity_level, activity_level_label) values (%s, %s, %s, %s, %s, %s)'\n",
    "\n",
    "    with conn.cursor() as cur:\n",
    "        cur.execute(\"create table if not exists respiratory_infections (entry_id int AUTO_INCREMENT PRIMARY KEY, week_ending date, week int, season varchar(255), state varchar(255), activity_level int, activity_level_label varchar(255))\")\n",
    "        cur.executemany(sql_string, data)\n",
    "    conn.commit()    \n",
    "    logger.info(\"SUCCESS: Data inserted\")"
   ]
  },
  {
   "cell_type": "code",
   "execution_count": null,
   "metadata": {},
   "outputs": [],
   "source": [
    "#Pull data from RDS and convert to dataframe\n",
    "import pymysql\n",
    "import pandas as pd\n",
    "import os\n",
    "import numpy as np\n",
    "import matplotlib.pyplot as plt\n",
    "import seaborn as sns\n",
    "\n",
    "user_name = os.environ['USER_NAME']\n",
    "password = os.environ['PASSWORD']\n",
    "rds_proxy_host = os.environ['RDS_PROXY_HOST']\n",
    "db_name = os.environ['DB_NAME']\n",
    "\n",
    "try:\n",
    "    conn = pymysql.connect(host=rds_proxy_host, user=user_name, passwd=password, db=db_name, connect_timeout=5)\n",
    "except pymysql.MySQLError as e:\n",
    "    print(e)\n",
    "\n",
    "query = 'select * from respiratory_infections'\n",
    "try:\n",
    "    df = pd.read_sql_query(query, conn)\n",
    "    df.set_index('entry_id', inplace=True)\n",
    "except pd.DatabaseError as e:\n",
    "    print(e)\n",
    "finally:\n",
    "    conn.close()"
   ]
  },
  {
   "cell_type": "code",
   "execution_count": null,
   "metadata": {},
   "outputs": [],
   "source": [
    "sns.pairplot(df, hue=\"state\")"
   ]
  },
  {
   "cell_type": "code",
   "execution_count": null,
   "metadata": {},
   "outputs": [],
   "source": [
    "New_York_data_df = df[df.state == \"New York\"]\n",
    "sns.pairplot(New_York_data_df, hue=\"state\")"
   ]
  },
  {
   "cell_type": "code",
   "execution_count": null,
   "metadata": {},
   "outputs": [],
   "source": [
    "Texas_data_df = df[df.state == \"Texas\"]\n",
    "sns.pairplot(Texas_data_df, hue=\"state\")"
   ]
  },
  {
   "cell_type": "code",
   "execution_count": null,
   "metadata": {},
   "outputs": [],
   "source": [
    "sns.pairplot(df, hue=\"activity_level_label\")"
   ]
  },
  {
   "cell_type": "code",
   "execution_count": null,
   "metadata": {},
   "outputs": [],
   "source": [
    "sns.pairplot(df, hue=\"season\")"
   ]
  },
  {
   "cell_type": "code",
   "execution_count": null,
   "metadata": {},
   "outputs": [],
   "source": [
    "season2023_2024_data_df = df[df.season == \"2023-2024\"]\n",
    "sns.pairplot(season2023_2024_data_df, hue=\"season\")"
   ]
  },
  {
   "cell_type": "code",
   "execution_count": null,
   "metadata": {},
   "outputs": [],
   "source": [
    "# Count occurrences of each state\n",
    "state_counts = df['state'].value_counts().sort_values(ascending=False).head(10)\n",
    "\n",
    "# Plot data\n",
    "plt.figure(figsize=(10, 6))\n",
    "state_counts.plot(kind='bar', color='skyblue')\n",
    "plt.title('Top Ten States by Number of Respiratory Outbreaks')\n",
    "plt.xlabel('State')\n",
    "plt.ylabel('Number of Respiratory Outbreaks')\n",
    "plt.xticks(rotation=45, ha='right')\n",
    "plt.ylim(65, 70)  # Set y-axis limits\n",
    "plt.tight_layout()\n",
    "\n",
    "# Show plot\n",
    "plt.show()"
   ]
  },
  {
   "cell_type": "code",
   "execution_count": null,
   "metadata": {},
   "outputs": [],
   "source": [
    "# Count occurrences of each activity_level_label for each state\n",
    "state_activity_counts = df.groupby(['state', 'activity_level_label']).size().unstack(fill_value=0)\n",
    "\n",
    "# Define order of activity level labels\n",
    "label_order = ['Insufficient Data', 'Minimal', 'Low', 'Moderate', 'High', 'Very High']\n",
    "\n",
    "# Filter top ten states\n",
    "top_ten_states = df['state'].value_counts().head(10).index\n",
    "\n",
    "# Filter states and reorder columns to include only the top ten states\n",
    "state_activity_counts = state_activity_counts.loc[top_ten_states]\n",
    "\n",
    "# Reorder columns based on the specified label order\n",
    "state_activity_counts = state_activity_counts[label_order]\n",
    "\n",
    "# Plot data\n",
    "plt.figure(figsize=(12, 8))\n",
    "state_activity_counts.plot(kind='bar', stacked=True)\n",
    "plt.title('Outbreak Severity for Top Ten States')\n",
    "plt.xlabel('State')\n",
    "plt.ylabel('Count')\n",
    "plt.xticks(rotation=45, ha='right')\n",
    "plt.legend(title='Activity Level', bbox_to_anchor=(1.05, 1), loc='upper left')\n",
    "plt.tight_layout()\n",
    "\n",
    "# Show plot\n",
    "plt.show()"
   ]
  },
  {
   "cell_type": "code",
   "execution_count": null,
   "metadata": {},
   "outputs": [],
   "source": [
    "# Filter DataFrame to include only 'Very High' and 'High' activity levels\n",
    "high_activity_df = df[df['activity_level_label'].isin(['Very High', 'High'])]\n",
    "\n",
    "# Count occurrences of each state\n",
    "state_counts = high_activity_df['state'].value_counts()\n",
    "\n",
    "# Plot data\n",
    "plt.figure(figsize=(10, 6))\n",
    "state_counts.plot(kind='bar', color='skyblue')\n",
    "plt.title('Top States with \"Very High\" and \"High\" Activity Levels')\n",
    "plt.xlabel('State')\n",
    "plt.ylabel('Count')\n",
    "plt.xticks(rotation=45, ha='right')\n",
    "plt.tight_layout()\n",
    "\n",
    "# Show plot\n",
    "plt.show()"
   ]
  },
  {
   "cell_type": "code",
   "execution_count": null,
   "metadata": {},
   "outputs": [],
   "source": [
    "# Filter DataFrame to include only 'Very High' and 'High' activity levels\n",
    "high_activity_df = df[df['activity_level_label'].isin(['Very High', 'High'])]\n",
    "\n",
    "# Count occurrences of each state\n",
    "state_counts = high_activity_df['state'].value_counts().head(10)\n",
    "\n",
    "# Plot data\n",
    "plt.figure(figsize=(10, 6))\n",
    "state_counts.plot(kind='bar', color='skyblue')\n",
    "plt.title('Top Ten States with \"Very High\" and \"High\" Activity Levels')\n",
    "plt.xlabel('State')\n",
    "plt.ylabel('Count')\n",
    "plt.xticks(rotation=45, ha='right')\n",
    "plt.tight_layout()\n",
    "\n",
    "# Show plot\n",
    "plt.show()"
   ]
  },
  {
   "cell_type": "code",
   "execution_count": null,
   "metadata": {},
   "outputs": [],
   "source": [
    "# Filter DataFrame to include only 'Very High' and 'High' activity levels\n",
    "high_activity_df = df[df['activity_level_label'].isin(['Very High', 'High'])]\n",
    "\n",
    "# Count total number of entries with 'Very High' and 'High' activity levels by week\n",
    "week_counts = high_activity_df.groupby('week').size()\n",
    "\n",
    "# Plot data\n",
    "plt.figure(figsize=(10, 6))\n",
    "week_counts.plot(kind='bar', color='skyblue')\n",
    "plt.title('Total Number of \"Very High\" and \"High\" Cases by Week')\n",
    "plt.xlabel('Week')\n",
    "plt.ylabel('Count')\n",
    "plt.xticks(rotation=0)\n",
    "plt.tight_layout()\n",
    "\n",
    "# Show plot\n",
    "plt.show()"
   ]
  }
 ],
 "metadata": {
  "kernelspec": {
   "display_name": "Python 3",
   "language": "python",
   "name": "python3"
  },
  "language_info": {
   "codemirror_mode": {
    "name": "ipython",
    "version": 3
   },
   "file_extension": ".py",
   "mimetype": "text/x-python",
   "name": "python",
   "nbconvert_exporter": "python",
   "pygments_lexer": "ipython3",
   "version": "3.10.6"
  }
 },
 "nbformat": 4,
 "nbformat_minor": 2
}
